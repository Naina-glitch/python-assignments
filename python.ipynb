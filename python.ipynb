{
  "nbformat": 4,
  "nbformat_minor": 0,
  "metadata": {
    "colab": {
      "name": "python.ipynb",
      "provenance": [],
      "collapsed_sections": []
    },
    "kernelspec": {
      "name": "python3",
      "display_name": "Python 3"
    }
  },
  "cells": [
    {
      "cell_type": "code",
      "metadata": {
        "id": "mWyOeP58Kf9X",
        "colab_type": "code",
        "colab": {}
      },
      "source": [
        "for alt in range(1000,10000):\n",
        "    alt=int(input(\"Enter the Altitude:\"))\n",
        "    if alt==1000:\n",
        "        print(\"Safe to Land\")\n",
        "    elif alt>1000 and alt<5000:\n",
        "        print(\"Bring down to 1000\")\n",
        "    else:\n",
        "        print(\"Turn Around\")"
      ],
      "execution_count": null,
      "outputs": []
    },
    {
      "cell_type": "code",
      "metadata": {
        "id": "UHgfBOIGKy-K",
        "colab_type": "code",
        "colab": {}
      },
      "source": [
        "for Number in range (1, 200):\n",
        "    count = 0\n",
        "    for i in range(2, (Number//2 + 1)):\n",
        "        if(Number % i == 0):\n",
        "            count = count + 1\n",
        "            break\n",
        "\n",
        "    if (count == 0 and Number != 1):\n",
        "        print(\" %d\" %Number, end = '\\n ')\n"
      ],
      "execution_count": null,
      "outputs": []
    },
    {
      "cell_type": "code",
      "metadata": {
        "id": "0mOyLLsSMpwX",
        "colab_type": "code",
        "colab": {}
      },
      "source": [
        ""
      ],
      "execution_count": null,
      "outputs": []
    }
  ]
}